{
 "cells": [
  {
   "cell_type": "code",
   "execution_count": 2,
   "id": "43d45088-c939-4e24-89fd-3e889db0a652",
   "metadata": {},
   "outputs": [],
   "source": [
    "import numpy as np\n",
    "import pandas as pd\n",
    "import matplotlib\n",
    "import matplotlib.pyplot as plt\n",
    "import seaborn as sns \n",
    "\n",
    "seed = 1\n",
    "np.random.seed(seed) # ensure same result for testing purpose"
   ]
  },
  {
   "cell_type": "code",
   "execution_count": 3,
   "id": "179a49ef-8918-4e45-9e0c-254f5d4c22eb",
   "metadata": {},
   "outputs": [],
   "source": [
    "#load the dataset\n",
    "cardiovascular = pd.read_csv('dataset.csv')"
   ]
  },
  {
   "cell_type": "markdown",
   "id": "3b19549b-1503-4420-b5e3-a6504012194d",
   "metadata": {},
   "source": [
    "# Data Exploration and Visualizing"
   ]
  },
  {
   "cell_type": "code",
   "execution_count": 11,
   "id": "68f90c9e-20f3-44f7-913e-bf95118a1e66",
   "metadata": {},
   "outputs": [
    {
     "name": "stdout",
     "output_type": "stream",
     "text": [
      "<class 'pandas.core.frame.DataFrame'>\n",
      "RangeIndex: 2100 entries, 0 to 2099\n",
      "Data columns (total 18 columns):\n",
      " #   Column                  Non-Null Count  Dtype  \n",
      "---  ------                  --------------  -----  \n",
      " 0   Gender                  2100 non-null   object \n",
      " 1   Age                     2100 non-null   int64  \n",
      " 2   Height(cm)              2100 non-null   float64\n",
      " 3   Weight(kg)              2100 non-null   float64\n",
      " 4   Family_history          2100 non-null   object \n",
      " 5   Alcohol                 2100 non-null   object \n",
      " 6   Junk_food               2100 non-null   object \n",
      " 7   Vege_day                2100 non-null   int64  \n",
      " 8   Meals_day               2100 non-null   int64  \n",
      " 9   Snack                   2100 non-null   object \n",
      " 10  Smoking                 2100 non-null   object \n",
      " 11  Water_intake(L)         2100 non-null   float64\n",
      " 12  Transportation          2100 non-null   object \n",
      " 13  Exercise                2100 non-null   int64  \n",
      " 14  TV                      2100 non-null   object \n",
      " 15  Income                  2100 non-null   int64  \n",
      " 16  Discipline              2100 non-null   object \n",
      " 17  Cardiovascular_risk(y)  2100 non-null   object \n",
      "dtypes: float64(3), int64(5), object(10)\n",
      "memory usage: 295.4+ KB\n"
     ]
    }
   ],
   "source": [
    "cardiovascular.info()"
   ]
  },
  {
   "cell_type": "code",
   "execution_count": 12,
   "id": "374b736c-7079-4d31-9271-4d7de45413f4",
   "metadata": {},
   "outputs": [
    {
     "name": "stdout",
     "output_type": "stream",
     "text": [
      "   Gender  Age  Height(cm)  Weight(kg) Family_history Alcohol Junk_food  \\\n",
      "0  Female   42       172.2        82.9             no     low       yes   \n",
      "1  Female   19       175.3        80.0            yes    none       yes   \n",
      "2  Female   43       158.3        81.9            yes    none       yes   \n",
      "3  Female   23       165.0        70.0            yes     low        no   \n",
      "4    Male   23       169.0        75.0            yes     low       yes   \n",
      "\n",
      "   Vege_day  Meals_day      Snack Smoking  Water_intake(L) Transportation  \\\n",
      "0         3          3  Sometimes      no             2.72            car   \n",
      "1         2          1  Sometimes      no             2.65            bus   \n",
      "2         3          1  Sometimes      no             1.89            car   \n",
      "3         2          1  Sometimes      no             2.00            bus   \n",
      "4         3          3  Sometimes      no             2.82            bus   \n",
      "\n",
      "   Exercise        TV  Income Discipline Cardiovascular_risk(y)  \n",
      "0         3      rare    2081         no                 medium  \n",
      "1         3  moderate    5551         no                 medium  \n",
      "2         1      rare   14046         no                   high  \n",
      "3         0      rare    9451         no                 medium  \n",
      "4         1     often   17857         no                 medium  \n",
      "Shape: (2100, 18)\n",
      "Total of 2100 records\n",
      "Total of 18 Columns\n"
     ]
    }
   ],
   "source": [
    "print(cardiovascular.head()) # First 5 data\n",
    "cardiovascular_shape = cardiovascular.shape\n",
    "row_count = cardiovascular_shape[0]\n",
    "col_count = cardiovascular_shape[1]\n",
    "print(f\"Shape: {cardiovascular_shape}\")\n",
    "print(f\"Total of {row_count} records\")\n",
    "print(f\"Total of {col_count} Columns\")"
   ]
  },
  {
   "cell_type": "code",
   "execution_count": 16,
   "id": "52e3e516-21f5-45e6-b8b3-72e27588b28c",
   "metadata": {},
   "outputs": [
    {
     "data": {
      "text/plain": [
       "Gender                    False\n",
       "Age                       False\n",
       "Height(cm)                False\n",
       "Weight(kg)                False\n",
       "Family_history            False\n",
       "Alcohol                   False\n",
       "Junk_food                 False\n",
       "Vege_day                  False\n",
       "Meals_day                 False\n",
       "Snack                     False\n",
       "Smoking                   False\n",
       "Water_intake(L)           False\n",
       "Transportation            False\n",
       "Exercise                  False\n",
       "TV                        False\n",
       "Income                    False\n",
       "Discipline                False\n",
       "Cardiovascular_risk(y)    False\n",
       "dtype: bool"
      ]
     },
     "execution_count": 16,
     "metadata": {},
     "output_type": "execute_result"
    }
   ],
   "source": [
    "# Check for null values\n",
    "cardiovascular.isnull().any()"
   ]
  },
  {
   "cell_type": "code",
   "execution_count": 30,
   "id": "5af1a4fa-7d25-4b38-a92e-75a6f77a060a",
   "metadata": {},
   "outputs": [
    {
     "name": "stdout",
     "output_type": "stream",
     "text": [
      "<class 'pandas.core.frame.DataFrame'>\n",
      "RangeIndex: 2100 entries, 0 to 2099\n",
      "Data columns (total 8 columns):\n",
      " #   Column           Non-Null Count  Dtype  \n",
      "---  ------           --------------  -----  \n",
      " 0   Age              2100 non-null   int64  \n",
      " 1   Height(cm)       2100 non-null   float64\n",
      " 2   Weight(kg)       2100 non-null   float64\n",
      " 3   Vege_day         2100 non-null   int64  \n",
      " 4   Meals_day        2100 non-null   int64  \n",
      " 5   Water_intake(L)  2100 non-null   float64\n",
      " 6   Exercise         2100 non-null   int64  \n",
      " 7   Income           2100 non-null   int64  \n",
      "dtypes: float64(3), int64(5)\n",
      "memory usage: 131.4 KB\n",
      "None\n",
      "\n",
      "<class 'pandas.core.frame.DataFrame'>\n",
      "RangeIndex: 2100 entries, 0 to 2099\n",
      "Data columns (total 10 columns):\n",
      " #   Column                  Non-Null Count  Dtype \n",
      "---  ------                  --------------  ----- \n",
      " 0   Gender                  2100 non-null   object\n",
      " 1   Family_history          2100 non-null   object\n",
      " 2   Alcohol                 2100 non-null   object\n",
      " 3   Junk_food               2100 non-null   object\n",
      " 4   Snack                   2100 non-null   object\n",
      " 5   Smoking                 2100 non-null   object\n",
      " 6   Transportation          2100 non-null   object\n",
      " 7   TV                      2100 non-null   object\n",
      " 8   Discipline              2100 non-null   object\n",
      " 9   Cardiovascular_risk(y)  2100 non-null   object\n",
      "dtypes: object(10)\n",
      "memory usage: 164.2+ KB\n",
      "None\n"
     ]
    }
   ],
   "source": [
    "# Seperates to categorial and numberics for visualization purpose\n",
    "cardiovascular_num = cardiovascular.select_dtypes(exclude=\"object\")\n",
    "cardiovascular_cat = cardiovascular.select_dtypes(include=\"object\")\n",
    "print(cardiovascular_num.info(), end=\"\\n\\n\")\n",
    "print(cardiovascular_cat.info())"
   ]
  },
  {
   "cell_type": "code",
   "execution_count": 27,
   "id": "eadc5c27-9efa-4aae-bf06-1d453fa2b366",
   "metadata": {},
   "outputs": [
    {
     "data": {
      "text/html": [
       "<div>\n",
       "<style scoped>\n",
       "    .dataframe tbody tr th:only-of-type {\n",
       "        vertical-align: middle;\n",
       "    }\n",
       "\n",
       "    .dataframe tbody tr th {\n",
       "        vertical-align: top;\n",
       "    }\n",
       "\n",
       "    .dataframe thead th {\n",
       "        text-align: right;\n",
       "    }\n",
       "</style>\n",
       "<table border=\"1\" class=\"dataframe\">\n",
       "  <thead>\n",
       "    <tr style=\"text-align: right;\">\n",
       "      <th></th>\n",
       "      <th>Age</th>\n",
       "      <th>Height(cm)</th>\n",
       "      <th>Weight(kg)</th>\n",
       "      <th>Vege_day</th>\n",
       "      <th>Meals_day</th>\n",
       "      <th>Water_intake(L)</th>\n",
       "      <th>Exercise</th>\n",
       "      <th>Income</th>\n",
       "    </tr>\n",
       "  </thead>\n",
       "  <tbody>\n",
       "    <tr>\n",
       "      <th>count</th>\n",
       "      <td>2100.000000</td>\n",
       "      <td>2100.000000</td>\n",
       "      <td>2100.000000</td>\n",
       "      <td>2100.000000</td>\n",
       "      <td>2100.000000</td>\n",
       "      <td>2100.000000</td>\n",
       "      <td>2100.000000</td>\n",
       "      <td>2100.000000</td>\n",
       "    </tr>\n",
       "    <tr>\n",
       "      <th>mean</th>\n",
       "      <td>24.302381</td>\n",
       "      <td>170.148286</td>\n",
       "      <td>86.561571</td>\n",
       "      <td>2.423333</td>\n",
       "      <td>2.687143</td>\n",
       "      <td>2.007429</td>\n",
       "      <td>1.006190</td>\n",
       "      <td>9432.386190</td>\n",
       "    </tr>\n",
       "    <tr>\n",
       "      <th>std</th>\n",
       "      <td>6.342270</td>\n",
       "      <td>9.340941</td>\n",
       "      <td>26.192242</td>\n",
       "      <td>0.584318</td>\n",
       "      <td>0.810088</td>\n",
       "      <td>0.613122</td>\n",
       "      <td>0.894885</td>\n",
       "      <td>5002.350673</td>\n",
       "    </tr>\n",
       "    <tr>\n",
       "      <th>min</th>\n",
       "      <td>14.000000</td>\n",
       "      <td>145.000000</td>\n",
       "      <td>39.000000</td>\n",
       "      <td>1.000000</td>\n",
       "      <td>1.000000</td>\n",
       "      <td>1.000000</td>\n",
       "      <td>0.000000</td>\n",
       "      <td>1000.000000</td>\n",
       "    </tr>\n",
       "    <tr>\n",
       "      <th>25%</th>\n",
       "      <td>20.000000</td>\n",
       "      <td>163.000000</td>\n",
       "      <td>65.400000</td>\n",
       "      <td>2.000000</td>\n",
       "      <td>3.000000</td>\n",
       "      <td>1.577500</td>\n",
       "      <td>0.000000</td>\n",
       "      <td>4994.500000</td>\n",
       "    </tr>\n",
       "    <tr>\n",
       "      <th>50%</th>\n",
       "      <td>23.000000</td>\n",
       "      <td>170.000000</td>\n",
       "      <td>83.000000</td>\n",
       "      <td>2.000000</td>\n",
       "      <td>3.000000</td>\n",
       "      <td>2.000000</td>\n",
       "      <td>1.000000</td>\n",
       "      <td>9226.500000</td>\n",
       "    </tr>\n",
       "    <tr>\n",
       "      <th>75%</th>\n",
       "      <td>26.000000</td>\n",
       "      <td>176.800000</td>\n",
       "      <td>107.250000</td>\n",
       "      <td>3.000000</td>\n",
       "      <td>3.000000</td>\n",
       "      <td>2.480000</td>\n",
       "      <td>2.000000</td>\n",
       "      <td>13841.750000</td>\n",
       "    </tr>\n",
       "    <tr>\n",
       "      <th>max</th>\n",
       "      <td>61.000000</td>\n",
       "      <td>198.000000</td>\n",
       "      <td>173.000000</td>\n",
       "      <td>3.000000</td>\n",
       "      <td>4.000000</td>\n",
       "      <td>3.000000</td>\n",
       "      <td>3.000000</td>\n",
       "      <td>18000.000000</td>\n",
       "    </tr>\n",
       "  </tbody>\n",
       "</table>\n",
       "</div>"
      ],
      "text/plain": [
       "               Age   Height(cm)   Weight(kg)     Vege_day    Meals_day  \\\n",
       "count  2100.000000  2100.000000  2100.000000  2100.000000  2100.000000   \n",
       "mean     24.302381   170.148286    86.561571     2.423333     2.687143   \n",
       "std       6.342270     9.340941    26.192242     0.584318     0.810088   \n",
       "min      14.000000   145.000000    39.000000     1.000000     1.000000   \n",
       "25%      20.000000   163.000000    65.400000     2.000000     3.000000   \n",
       "50%      23.000000   170.000000    83.000000     2.000000     3.000000   \n",
       "75%      26.000000   176.800000   107.250000     3.000000     3.000000   \n",
       "max      61.000000   198.000000   173.000000     3.000000     4.000000   \n",
       "\n",
       "       Water_intake(L)     Exercise        Income  \n",
       "count      2100.000000  2100.000000   2100.000000  \n",
       "mean          2.007429     1.006190   9432.386190  \n",
       "std           0.613122     0.894885   5002.350673  \n",
       "min           1.000000     0.000000   1000.000000  \n",
       "25%           1.577500     0.000000   4994.500000  \n",
       "50%           2.000000     1.000000   9226.500000  \n",
       "75%           2.480000     2.000000  13841.750000  \n",
       "max           3.000000     3.000000  18000.000000  "
      ]
     },
     "execution_count": 27,
     "metadata": {},
     "output_type": "execute_result"
    }
   ],
   "source": [
    "cardiovascular_num.describe()"
   ]
  },
  {
   "cell_type": "code",
   "execution_count": null,
   "id": "1beaf26a-eeae-45b9-8069-d220d57fbdf2",
   "metadata": {},
   "outputs": [],
   "source": [
    "# Plot histogram for numerical columns\n",
    "cardiovascular_num.hist(bins=\""
   ]
  },
  {
   "cell_type": "code",
   "execution_count": null,
   "id": "0daa6382-b8bf-4589-be32-4695fd568275",
   "metadata": {},
   "outputs": [],
   "source": []
  },
  {
   "cell_type": "code",
   "execution_count": null,
   "id": "530c0e69-c9b8-4e90-b685-691fd1cfc69e",
   "metadata": {},
   "outputs": [],
   "source": []
  },
  {
   "cell_type": "code",
   "execution_count": 28,
   "id": "c5c4161c-c613-48bf-b208-7926de9be124",
   "metadata": {},
   "outputs": [
    {
     "data": {
      "text/plain": [
       "Gender  Family_history  Alcohol  Junk_food  Snack       Smoking  Transportation  TV        Discipline  Cardiovascular_risk(y)\n",
       "Female  yes             low      yes        Sometimes   no       bus             moderate  no          high                      225\n",
       "                                                                                 rare      no          high                      115\n",
       "Male    yes             low      yes        Sometimes   no       bus             rare      no          high                      111\n",
       "                        none     yes        Sometimes   no       bus             moderate  no          high                       64\n",
       "                        low      yes        Sometimes   no       bus             rare      no          medium                     60\n",
       "                                                                                                                                ... \n",
       "                        medium   yes        Always      no       car             moderate  no          high                        1\n",
       "                                                                                 often     no          high                        1\n",
       "                                            Frequently  no       bus             moderate  no          low                         1\n",
       "                                                                                                       medium                      1\n",
       "Female  no              low      yes        Sometimes   no       walk            often     no          low                         1\n",
       "Name: count, Length: 405, dtype: int64"
      ]
     },
     "execution_count": 28,
     "metadata": {},
     "output_type": "execute_result"
    }
   ],
   "source": [
    "cardiovascular_cat.value_counts()"
   ]
  },
  {
   "cell_type": "code",
   "execution_count": null,
   "id": "8d6a8bd5-015e-497a-ac7b-94623f416159",
   "metadata": {},
   "outputs": [],
   "source": []
  },
  {
   "cell_type": "code",
   "execution_count": null,
   "id": "99eb8ee9-a130-4d0f-8614-bbe6af12d856",
   "metadata": {},
   "outputs": [],
   "source": []
  },
  {
   "cell_type": "code",
   "execution_count": null,
   "id": "aa1a73c9-89c2-4f0f-bf02-db8449dabfdc",
   "metadata": {},
   "outputs": [],
   "source": []
  },
  {
   "cell_type": "code",
   "execution_count": null,
   "id": "c8132daf-7e4f-4c31-b7d8-8ee69a0198f7",
   "metadata": {},
   "outputs": [],
   "source": []
  },
  {
   "cell_type": "code",
   "execution_count": null,
   "id": "b99ad0ea-93ea-42b3-80a0-f2a1c209b4b2",
   "metadata": {},
   "outputs": [],
   "source": []
  }
 ],
 "metadata": {
  "kernelspec": {
   "display_name": "Python 3 (ipykernel)",
   "language": "python",
   "name": "python3"
  },
  "language_info": {
   "codemirror_mode": {
    "name": "ipython",
    "version": 3
   },
   "file_extension": ".py",
   "mimetype": "text/x-python",
   "name": "python",
   "nbconvert_exporter": "python",
   "pygments_lexer": "ipython3",
   "version": "3.12.2"
  }
 },
 "nbformat": 4,
 "nbformat_minor": 5
}
